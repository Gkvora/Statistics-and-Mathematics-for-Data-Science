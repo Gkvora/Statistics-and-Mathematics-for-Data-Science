{
 "cells": [
  {
   "cell_type": "code",
   "execution_count": 14,
   "id": "d53aa535",
   "metadata": {},
   "outputs": [],
   "source": [
    "import numpy as np\n",
    "from  statistics import mode"
   ]
  },
  {
   "cell_type": "code",
   "execution_count": 15,
   "id": "4425d738",
   "metadata": {},
   "outputs": [
    {
     "data": {
      "text/plain": [
       "12"
      ]
     },
     "execution_count": 15,
     "metadata": {},
     "output_type": "execute_result"
    }
   ],
   "source": [
    "np.random.randint(10,20)"
   ]
  },
  {
   "cell_type": "code",
   "execution_count": 16,
   "id": "8331a3b8",
   "metadata": {},
   "outputs": [
    {
     "data": {
      "text/plain": [
       "array([11, 18, 11, 19, 12, 16, 11, 13, 16, 12, 18, 17, 10, 16, 11, 11, 14,\n",
       "       16, 15, 17, 18, 15, 18, 19, 14, 16, 18, 17, 14, 13, 17, 14, 13, 15,\n",
       "       10, 16, 19, 17, 11, 14, 18, 12, 17, 14, 16, 14, 19, 16, 13, 19])"
      ]
     },
     "execution_count": 16,
     "metadata": {},
     "output_type": "execute_result"
    }
   ],
   "source": [
    "population=np.random.randint(10,20,50)\n",
    "population"
   ]
  },
  {
   "cell_type": "code",
   "execution_count": 17,
   "id": "13236484",
   "metadata": {},
   "outputs": [
    {
     "data": {
      "text/plain": [
       "15.0"
      ]
     },
     "execution_count": 17,
     "metadata": {},
     "output_type": "execute_result"
    }
   ],
   "source": [
    "np.mean(population)"
   ]
  },
  {
   "cell_type": "code",
   "execution_count": 18,
   "id": "4f2d5967",
   "metadata": {},
   "outputs": [
    {
     "data": {
      "text/plain": [
       "15.5"
      ]
     },
     "execution_count": 18,
     "metadata": {},
     "output_type": "execute_result"
    }
   ],
   "source": [
    "np.median(population)"
   ]
  },
  {
   "cell_type": "code",
   "execution_count": 19,
   "id": "859cc0e6",
   "metadata": {},
   "outputs": [
    {
     "data": {
      "text/plain": [
       "16"
      ]
     },
     "execution_count": 19,
     "metadata": {},
     "output_type": "execute_result"
    }
   ],
   "source": [
    "mode(population)"
   ]
  },
  {
   "cell_type": "code",
   "execution_count": 20,
   "id": "6319abd4",
   "metadata": {},
   "outputs": [
    {
     "name": "stdout",
     "output_type": "stream",
     "text": [
      "mean of the population 15.0\n",
      "median of the population 15.5\n",
      "mode of the population 16\n"
     ]
    }
   ],
   "source": [
    "print(f\"mean of the population {np.mean(population)}\")\n",
    "print(f\"median of the population {np.median(population)}\")\n",
    "print(f\"mode of the population {mode(population)}\")"
   ]
  },
  {
   "cell_type": "code",
   "execution_count": 21,
   "id": "0bff6e87",
   "metadata": {},
   "outputs": [
    {
     "data": {
      "text/plain": [
       "array([11, 11, 17, 15, 16, 17, 19, 13, 18, 19])"
      ]
     },
     "execution_count": 21,
     "metadata": {},
     "output_type": "execute_result"
    }
   ],
   "source": [
    "sample=np.random.choice(population,10)\n",
    "sample"
   ]
  },
  {
   "cell_type": "code",
   "execution_count": 22,
   "id": "d7ab6cf8",
   "metadata": {},
   "outputs": [
    {
     "name": "stdout",
     "output_type": "stream",
     "text": [
      "mean of the sample 15.6\n",
      "median of the sample 16.5\n",
      "mode of the sample 11\n"
     ]
    }
   ],
   "source": [
    "print(f\"mean of the sample {np.mean(sample)}\")\n",
    "print(f\"median of the sample {np.median(sample)}\")\n",
    "print(f\"mode of the sample {mode(sample)}\")"
   ]
  },
  {
   "cell_type": "code",
   "execution_count": 23,
   "id": "f981e5cb",
   "metadata": {},
   "outputs": [],
   "source": [
    "sample1=np.random.choice(population,20)\n",
    "sample2=np.random.choice(population,20)\n",
    "sample3=np.random.choice(population,20)\n",
    "sample4=np.random.choice(population,20)"
   ]
  },
  {
   "cell_type": "code",
   "execution_count": 24,
   "id": "2efcf452",
   "metadata": {},
   "outputs": [
    {
     "name": "stdout",
     "output_type": "stream",
     "text": [
      "[18 14 16 14 16 12 18 14 17 17 11 13 14 13 11 18 12 17 13 16]\n",
      "======================================================================\n",
      "[13 14 17 17 15 14 19 13 11 16 19 13 19 19 11 10 13 18 18 19]\n",
      "======================================================================\n",
      "[13 10 11 18 11 19 11 17 17 15 14 14 11 16 15 14 16 11 17 14]\n",
      "======================================================================\n",
      "[16 17 14 14 15 18 18 18 14 19 14 13 16 16 13 14 19 14 11 19]\n"
     ]
    }
   ],
   "source": [
    "print(sample1)\n",
    "print(\"=\"*70)\n",
    "print(sample2)\n",
    "print(\"=\"*70)\n",
    "print(sample3)\n",
    "print(\"=\"*70)\n",
    "print(sample4)"
   ]
  },
  {
   "cell_type": "code",
   "execution_count": 25,
   "id": "ea8cb490",
   "metadata": {},
   "outputs": [],
   "source": [
    "mean_of_samples=[]\n",
    "\n",
    "all_sample = [sample1,sample2,sample3,sample4]\n",
    "\n",
    "for sample in all_sample:\n",
    "    mean_of_samples.append(np.mean(sample))"
   ]
  },
  {
   "cell_type": "code",
   "execution_count": 26,
   "id": "2c73ee83",
   "metadata": {},
   "outputs": [
    {
     "data": {
      "text/plain": [
       "[14.7, 15.4, 14.2, 15.6]"
      ]
     },
     "execution_count": 26,
     "metadata": {},
     "output_type": "execute_result"
    }
   ],
   "source": [
    "mean_of_samples"
   ]
  },
  {
   "cell_type": "markdown",
   "id": "1c68ccaf",
   "metadata": {},
   "source": [
    "# Central limit Theorem"
   ]
  },
  {
   "cell_type": "code",
   "execution_count": 27,
   "id": "065a4efe",
   "metadata": {},
   "outputs": [],
   "source": [
    "population=np.random.binomial(10,0.5,10000)"
   ]
  },
  {
   "cell_type": "code",
   "execution_count": 28,
   "id": "fa9ae220",
   "metadata": {},
   "outputs": [
    {
     "name": "stdout",
     "output_type": "stream",
     "text": [
      "[4 3 6 ... 8 7 5]\n"
     ]
    }
   ],
   "source": [
    "print(population)"
   ]
  },
  {
   "cell_type": "code",
   "execution_count": 29,
   "id": "3cb8a761",
   "metadata": {},
   "outputs": [
    {
     "data": {
      "text/plain": [
       "10000"
      ]
     },
     "execution_count": 29,
     "metadata": {},
     "output_type": "execute_result"
    }
   ],
   "source": [
    "len(population)"
   ]
  },
  {
   "cell_type": "code",
   "execution_count": 30,
   "id": "9ef416fc",
   "metadata": {},
   "outputs": [
    {
     "name": "stderr",
     "output_type": "stream",
     "text": [
      "C:\\Users\\A\\anaconda3\\lib\\site-packages\\seaborn\\distributions.py:2619: FutureWarning: `distplot` is a deprecated function and will be removed in a future version. Please adapt your code to use either `displot` (a figure-level function with similar flexibility) or `histplot` (an axes-level function for histograms).\n",
      "  warnings.warn(msg, FutureWarning)\n"
     ]
    },
    {
     "data": {
      "text/plain": [
       "<AxesSubplot:ylabel='Density'>"
      ]
     },
     "execution_count": 30,
     "metadata": {},
     "output_type": "execute_result"
    },
    {
     "data": {
      "image/png": "[encoded data removed]",
      "text/plain": [
       "<Figure size 640x480 with 1 Axes>"
      ]
     },
     "metadata": {},
     "output_type": "display_data"
    }
   ],
   "source": [
    "import seaborn as sns\n",
    "sns.distplot(population)"
   ]
  },
  {
   "cell_type": "code",
   "execution_count": 31,
   "id": "a7f2bc32",
   "metadata": {},
   "outputs": [
    {
     "data": {
      "text/plain": [
       "10000"
      ]
     },
     "execution_count": 31,
     "metadata": {},
     "output_type": "execute_result"
    }
   ],
   "source": [
    "len(population)"
   ]
  },
  {
   "cell_type": "code",
   "execution_count": 32,
   "id": "80cae93d",
   "metadata": {},
   "outputs": [
    {
     "data": {
      "text/plain": [
       "3000.0"
      ]
     },
     "execution_count": 32,
     "metadata": {},
     "output_type": "execute_result"
    }
   ],
   "source": [
    "len(population)*0.30"
   ]
  },
  {
   "cell_type": "code",
   "execution_count": 33,
   "id": "c5e35ff2",
   "metadata": {},
   "outputs": [],
   "source": [
    "size1=int(len(population)*0.30)"
   ]
  },
  {
   "cell_type": "code",
   "execution_count": 34,
   "id": "89c45eba",
   "metadata": {},
   "outputs": [],
   "source": [
    "sample_mean=[]\n",
    "for i in range(1,31):\n",
    "    sample=np.random.choice(population,size=size1)\n",
    "    sample_mean.append(np.mean(sample))"
   ]
  },
  {
   "cell_type": "code",
   "execution_count": 35,
   "id": "eb463bd1",
   "metadata": {},
   "outputs": [
    {
     "data": {
      "text/plain": [
       "[5.017333333333333,\n",
       " 4.995666666666667,\n",
       " 5.036666666666667,\n",
       " 5.014,\n",
       " 5.008333333333334,\n",
       " 4.9623333333333335,\n",
       " 5.017666666666667,\n",
       " 4.935333333333333,\n",
       " 5.023666666666666,\n",
       " 4.988,\n",
       " 5.04,\n",
       " 5.008333333333334,\n",
       " 4.976666666666667,\n",
       " 4.977333333333333,\n",
       " 5.018,\n",
       " 5.011333333333333,\n",
       " 4.969,\n",
       " 5.039333333333333,\n",
       " 4.987333333333333,\n",
       " 5.020666666666667,\n",
       " 5.046333333333333,\n",
       " 4.9863333333333335,\n",
       " 5.018666666666666,\n",
       " 4.939333333333333,\n",
       " 5.008666666666667,\n",
       " 5.024333333333334,\n",
       " 5.035666666666667,\n",
       " 4.972333333333333,\n",
       " 5.053333333333334,\n",
       " 4.997]"
      ]
     },
     "execution_count": 35,
     "metadata": {},
     "output_type": "execute_result"
    }
   ],
   "source": [
    "sample_mean"
   ]
  },
  {
   "cell_type": "code",
   "execution_count": 36,
   "id": "4d8466c5",
   "metadata": {},
   "outputs": [
    {
     "name": "stderr",
     "output_type": "stream",
     "text": [
      "C:\\Users\\A\\anaconda3\\lib\\site-packages\\seaborn\\distributions.py:2619: FutureWarning: `distplot` is a deprecated function and will be removed in a future version. Please adapt your code to use either `displot` (a figure-level function with similar flexibility) or `histplot` (an axes-level function for histograms).\n",
      "  warnings.warn(msg, FutureWarning)\n"
     ]
    },
    {
     "data": {
      "text/plain": [
       "<AxesSubplot:ylabel='Density'>"
      ]
     },
     "execution_count": 36,
     "metadata": {},
     "output_type": "execute_result"
    },
    {
     "data": {
      "image/png": "[encoded data removed]",
      "text/plain": [
       "<Figure size 640x480 with 1 Axes>"
      ]
     },
     "metadata": {},
     "output_type": "display_data"
    }
   ],
   "source": [
    "sns.distplot(sample_mean)"
   ]
  },
  {
   "cell_type": "code",
   "execution_count": 37,
   "id": "414736c2",
   "metadata": {},
   "outputs": [],
   "source": [
    "sample_mean=[]\n",
    "for i in range(1,101):\n",
    "    sample=np.random.choice(population,size=size1)\n",
    "    sample_mean.append(np.mean(sample))"
   ]
  },
  {
   "cell_type": "code",
   "execution_count": 38,
   "id": "a00bf444",
   "metadata": {},
   "outputs": [
    {
     "name": "stderr",
     "output_type": "stream",
     "text": [
      "C:\\Users\\A\\anaconda3\\lib\\site-packages\\seaborn\\distributions.py:2619: FutureWarning: `distplot` is a deprecated function and will be removed in a future version. Please adapt your code to use either `displot` (a figure-level function with similar flexibility) or `histplot` (an axes-level function for histograms).\n",
      "  warnings.warn(msg, FutureWarning)\n"
     ]
    },
    {
     "data": {
      "text/plain": [
       "<AxesSubplot:ylabel='Density'>"
      ]
     },
     "execution_count": 38,
     "metadata": {},
     "output_type": "execute_result"
    },
    {
     "data": {
      "image/png": "[encoded data removed]",
      "text/plain": [
       "<Figure size 640x480 with 1 Axes>"
      ]
     },
     "metadata": {},
     "output_type": "display_data"
    }
   ],
   "source": [
    "sns.distplot(sample_mean)"
   ]
  },
  {
   "cell_type": "code",
   "execution_count": 39,
   "id": "afbe45ce",
   "metadata": {},
   "outputs": [],
   "source": [
    "sample_mean=[]\n",
    "for i in range(1,500):\n",
    "    sample=np.random.choice(population,size=size1)\n",
    "    sample_mean.append(np.mean(sample))"
   ]
  },
  {
   "cell_type": "code",
   "execution_count": 40,
   "id": "0390ed25",
   "metadata": {},
   "outputs": [
    {
     "name": "stderr",
     "output_type": "stream",
     "text": [
      "C:\\Users\\A\\anaconda3\\lib\\site-packages\\seaborn\\distributions.py:2619: FutureWarning: `distplot` is a deprecated function and will be removed in a future version. Please adapt your code to use either `displot` (a figure-level function with similar flexibility) or `histplot` (an axes-level function for histograms).\n",
      "  warnings.warn(msg, FutureWarning)\n"
     ]
    },
    {
     "data": {
      "text/plain": [
       "<AxesSubplot:ylabel='Density'>"
      ]
     },
     "execution_count": 40,
     "metadata": {},
     "output_type": "execute_result"
    },
    {
     "data": {
      "image/png": "[encoded data removed]",
      "text/plain": [
       "<Figure size 640x480 with 1 Axes>"
      ]
     },
     "metadata": {},
     "output_type": "display_data"
    }
   ],
   "source": [
    "sns.distplot(sample_mean,kde=True,color='red')"
   ]
  },
  {
   "cell_type": "code",
   "execution_count": 41,
   "id": "52002ed5",
   "metadata": {},
   "outputs": [],
   "source": [
    "sample_mean=[]\n",
    "for i in range(1,1000):\n",
    "    sample=np.random.choice(population,size=size1)\n",
    "    sample_mean.append(np.mean(sample))"
   ]
  },
  {
   "cell_type": "code",
   "execution_count": 42,
   "id": "57d17d0c",
   "metadata": {},
   "outputs": [
    {
     "name": "stderr",
     "output_type": "stream",
     "text": [
      "C:\\Users\\A\\anaconda3\\lib\\site-packages\\seaborn\\distributions.py:2619: FutureWarning: `distplot` is a deprecated function and will be removed in a future version. Please adapt your code to use either `displot` (a figure-level function with similar flexibility) or `histplot` (an axes-level function for histograms).\n",
      "  warnings.warn(msg, FutureWarning)\n"
     ]
    },
    {
     "data": {
      "text/plain": [
       "<AxesSubplot:ylabel='Density'>"
      ]
     },
     "execution_count": 42,
     "metadata": {},
     "output_type": "execute_result"
    },
    {
     "data": {
      "image/png": "[encoded data removed]",
      "text/plain": [
       "<Figure size 640x480 with 1 Axes>"
      ]
     },
     "metadata": {},
     "output_type": "display_data"
    }
   ],
   "source": [
    "sns.distplot(sample_mean,kde=True,color='red')"
   ]
  },
  {
   "cell_type": "markdown",
   "id": "8de99fba",
   "metadata": {},
   "source": [
    "# Confidence interval and margin of erroe"
   ]
  },
  {
   "cell_type": "code",
   "execution_count": 43,
   "id": "00d35eff",
   "metadata": {},
   "outputs": [],
   "source": [
    "import scipy.stats as st"
   ]
  },
  {
   "cell_type": "code",
   "execution_count": 44,
   "id": "180e166d",
   "metadata": {},
   "outputs": [
    {
     "data": {
      "text/plain": [
       "1.6448536269514722"
      ]
     },
     "execution_count": 44,
     "metadata": {},
     "output_type": "execute_result"
    }
   ],
   "source": [
    "st.norm.ppf(q=0.95)"
   ]
  },
  {
   "cell_type": "code",
   "execution_count": 45,
   "id": "316c244e",
   "metadata": {},
   "outputs": [
    {
     "data": {
      "text/plain": [
       "1.959963984540054"
      ]
     },
     "execution_count": 45,
     "metadata": {},
     "output_type": "execute_result"
    }
   ],
   "source": [
    "st.norm.ppf(q=0.975)"
   ]
  },
  {
   "cell_type": "code",
   "execution_count": 46,
   "id": "f554acb4",
   "metadata": {},
   "outputs": [
    {
     "data": {
      "text/plain": [
       "2.3263478740408408"
      ]
     },
     "execution_count": 46,
     "metadata": {},
     "output_type": "execute_result"
    }
   ],
   "source": [
    "st.norm.ppf(q=0.99)"
   ]
  },
  {
   "cell_type": "code",
   "execution_count": 61,
   "id": "e1d22148",
   "metadata": {},
   "outputs": [],
   "source": [
    "population=np.random.randint(10,20,50)"
   ]
  },
  {
   "cell_type": "code",
   "execution_count": 62,
   "id": "2a1324e3",
   "metadata": {},
   "outputs": [],
   "source": [
    "sample1=np.random.choice(population,20)\n",
    "sample2=np.random.choice(population,20)\n",
    "sample3=np.random.choice(population,20)\n",
    "sample4=np.random.choice(population,20)"
   ]
  },
  {
   "cell_type": "code",
   "execution_count": 60,
   "id": "e0f8606d",
   "metadata": {},
   "outputs": [],
   "source": [
    "mean_of_samples=[]\n",
    "\n",
    "all_sample=[sample1,sample2,sample3,sample4]\n",
    "\n",
    "for sample in all_sample:\n",
    "    mean_of_samples.append(np.mean(sample))"
   ]
  },
  {
   "cell_type": "code",
   "execution_count": 63,
   "id": "d3202c23",
   "metadata": {},
   "outputs": [],
   "source": [
    "import scipy.stats as stats"
   ]
  },
  {
   "cell_type": "code",
   "execution_count": 64,
   "id": "8788722b",
   "metadata": {},
   "outputs": [],
   "source": [
    "#stats.norm.ppf(q=0.95)\n",
    "#stats.norm.ppf(q=0.975)\n",
    "#stats.norm.ppf(q=0.99)"
   ]
  },
  {
   "cell_type": "code",
   "execution_count": 66,
   "id": "65dd4b90",
   "metadata": {},
   "outputs": [],
   "source": [
    "z_critical = stats.norm.ppf(q=0.975)"
   ]
  },
  {
   "cell_type": "code",
   "execution_count": 67,
   "id": "d6d50ba9",
   "metadata": {},
   "outputs": [],
   "source": [
    "t_critical = stats.t.ppf(q=0.975,df=24)"
   ]
  },
  {
   "cell_type": "code",
   "execution_count": 68,
   "id": "a4df36fb",
   "metadata": {},
   "outputs": [],
   "source": [
    "margin_of_error = z_critical * (np.std(mean_of_samples)/np.sqrt(20))"
   ]
  },
  {
   "cell_type": "code",
   "execution_count": 69,
   "id": "c2c032dd",
   "metadata": {},
   "outputs": [
    {
     "data": {
      "text/plain": [
       "14.73024962005096"
      ]
     },
     "execution_count": 69,
     "metadata": {},
     "output_type": "execute_result"
    }
   ],
   "source": [
    "np.mean(mean_of_samples)-margin_of_error"
   ]
  },
  {
   "cell_type": "code",
   "execution_count": 70,
   "id": "8fb62a2f",
   "metadata": {},
   "outputs": [
    {
     "data": {
      "text/plain": [
       "15.219750379949039"
      ]
     },
     "execution_count": 70,
     "metadata": {},
     "output_type": "execute_result"
    }
   ],
   "source": [
    "np.mean(mean_of_samples)+margin_of_error"
   ]
  },
  {
   "cell_type": "markdown",
   "id": "4b63afd6",
   "metadata": {},
   "source": [
    "# Z-test"
   ]
  },
  {
   "cell_type": "code",
   "execution_count": 48,
   "id": "625d167b",
   "metadata": {},
   "outputs": [],
   "source": [
    "from numpy.random import randn\n",
    "population=randn(100)"
   ]
  },
  {
   "cell_type": "code",
   "execution_count": 49,
   "id": "0a339983",
   "metadata": {},
   "outputs": [
    {
     "data": {
      "text/plain": [
       "array([-0.22802965,  0.68537264, -1.84246653, -1.24354627, -0.91927004,\n",
       "        0.90783951,  0.58715911, -0.11925904,  0.50819777, -1.36138343,\n",
       "       -0.45751521, -0.12772691, -0.1128022 ,  1.33139271,  0.42495936,\n",
       "       -0.25978018,  2.16892656, -1.32877048,  0.33782646,  0.46359955,\n",
       "        0.07583004, -0.39359033, -0.05899117, -0.13555012,  0.44474163,\n",
       "        0.27761797,  2.02042383,  0.9643077 , -0.42729099,  0.38376978,\n",
       "        1.23931727,  1.76994902,  0.61465029, -0.63474231,  0.14136025,\n",
       "        0.82478127,  0.66969723,  1.15220214,  0.60928584,  0.28980757,\n",
       "       -0.0767769 ,  0.97895092, -2.15320002,  0.28820704,  0.30416378,\n",
       "        0.3975319 ,  0.03786132,  0.03687259,  0.05889725,  1.21034339,\n",
       "       -1.17487922,  1.52631093,  0.07101729, -0.4716287 , -0.91263785,\n",
       "       -0.02913992,  0.17900477,  1.10154683,  0.86724441, -1.10409358,\n",
       "        1.19844326,  0.19694935,  0.29415588, -0.33240536,  1.47446505,\n",
       "       -0.9110468 ,  2.14308042, -1.0841845 , -0.14474239, -0.89730805,\n",
       "       -0.02268755, -1.69962669,  1.2551518 , -1.3617716 , -0.28754997,\n",
       "       -0.6504208 , -0.45888372, -0.04485482,  0.2557551 ,  0.42921125,\n",
       "       -0.27352425,  2.07345832,  0.76549465,  1.26826458, -1.7674007 ,\n",
       "       -0.81759233,  0.26375235,  1.12273016, -0.09363503,  0.71752519,\n",
       "        0.02003299,  1.11960503, -1.94611807, -0.07351105,  0.02096896,\n",
       "       -1.3325883 , -0.26373265, -1.29656876, -1.31873487, -1.67482859])"
      ]
     },
     "execution_count": 49,
     "metadata": {},
     "output_type": "execute_result"
    }
   ],
   "source": [
    "population"
   ]
  },
  {
   "cell_type": "code",
   "execution_count": 50,
   "id": "1ba06ec0",
   "metadata": {},
   "outputs": [
    {
     "name": "stderr",
     "output_type": "stream",
     "text": [
      "C:\\Users\\A\\anaconda3\\lib\\site-packages\\seaborn\\distributions.py:2619: FutureWarning: `distplot` is a deprecated function and will be removed in a future version. Please adapt your code to use either `displot` (a figure-level function with similar flexibility) or `histplot` (an axes-level function for histograms).\n",
      "  warnings.warn(msg, FutureWarning)\n"
     ]
    },
    {
     "data": {
      "text/plain": [
       "<AxesSubplot:ylabel='Density'>"
      ]
     },
     "execution_count": 50,
     "metadata": {},
     "output_type": "execute_result"
    },
    {
     "data": {
      "image/png": "[encoded data removed]",
      "text/plain": [
       "<Figure size 640x480 with 1 Axes>"
      ]
     },
     "metadata": {},
     "output_type": "display_data"
    }
   ],
   "source": [
    "sns.distplot(population)"
   ]
  },
  {
   "cell_type": "code",
   "execution_count": 51,
   "id": "a0f2cf0c",
   "metadata": {},
   "outputs": [
    {
     "name": "stdout",
     "output_type": "stream",
     "text": [
      "here is a mean of the population: 0.06243224351723654,here is a std dev 0.957776709141216\n"
     ]
    }
   ],
   "source": [
    "print(f\"here is a mean of the population: {np.mean(population)},here is a std dev {np.std(population)}\")"
   ]
  },
  {
   "cell_type": "code",
   "execution_count": 52,
   "id": "ee333a33",
   "metadata": {},
   "outputs": [],
   "source": [
    "null_mean= 0.022"
   ]
  },
  {
   "cell_type": "code",
   "execution_count": 53,
   "id": "1c71a2da",
   "metadata": {},
   "outputs": [
    {
     "ename": "SyntaxError",
     "evalue": "invalid syntax (479726303.py, line 1)",
     "output_type": "error",
     "traceback": [
      "\u001b[1;36m  File \u001b[1;32m\"C:\\Users\\A\\AppData\\Local\\Temp\\ipykernel_2876\\479726303.py\"\u001b[1;36m, line \u001b[1;32m1\u001b[0m\n\u001b[1;33m    C.I=95%\u001b[0m\n\u001b[1;37m           ^\u001b[0m\n\u001b[1;31mSyntaxError\u001b[0m\u001b[1;31m:\u001b[0m invalid syntax\n"
     ]
    }
   ],
   "source": [
    "C.I=95%\n",
    "ALPHA=0.05(5%)"
   ]
  },
  {
   "cell_type": "code",
   "execution_count": 54,
   "id": "668f23d9",
   "metadata": {},
   "outputs": [
    {
     "ename": "NameError",
     "evalue": "name 'P' is not defined",
     "output_type": "error",
     "traceback": [
      "\u001b[1;31m---------------------------------------------------------------------------\u001b[0m",
      "\u001b[1;31mNameError\u001b[0m                                 Traceback (most recent call last)",
      "\u001b[1;32m~\\AppData\\Local\\Temp\\ipykernel_2876\\3775527107.py\u001b[0m in \u001b[0;36m<module>\u001b[1;34m\u001b[0m\n\u001b[1;32m----> 1\u001b[1;33m \u001b[0mP\u001b[0m\u001b[1;33m<=\u001b[0m\u001b[1;36m0.05\u001b[0m\u001b[1;31m#REJECT THE NULL HYPHOTHESIS\u001b[0m\u001b[1;33m\u001b[0m\u001b[1;33m\u001b[0m\u001b[0m\n\u001b[0m\u001b[0;32m      2\u001b[0m \u001b[0mP\u001b[0m\u001b[1;33m>\u001b[0m\u001b[1;36m0.05\u001b[0m \u001b[1;31m#YOU ARE GOING TO ACCEPT THE NULL HYPHOTEIS\u001b[0m\u001b[1;33m\u001b[0m\u001b[1;33m\u001b[0m\u001b[0m\n",
      "\u001b[1;31mNameError\u001b[0m: name 'P' is not defined"
     ]
    }
   ],
   "source": [
    "P<=0.05#REJECT THE NULL HYPHOTHESIS\n",
    "P>0.05 #YOU ARE GOING TO ACCEPT THE NULL HYPHOTEIS"
   ]
  },
  {
   "cell_type": "code",
   "execution_count": null,
   "id": "21534ffa",
   "metadata": {},
   "outputs": [],
   "source": [
    "P<=ALPHA\n",
    "P>ALPHA"
   ]
  },
  {
   "cell_type": "code",
   "execution_count": 55,
   "id": "56da4af1",
   "metadata": {},
   "outputs": [],
   "source": [
    "#p_value=0.05\n",
    "ALPHA=0.05"
   ]
  },
  {
   "cell_type": "code",
   "execution_count": 56,
   "id": "0a54e165",
   "metadata": {},
   "outputs": [],
   "source": [
    "from statsmodels.stats.weightstats import ztest\n",
    "z_score,p_value=ztest(population,value=null_mean,alternative='larger')"
   ]
  },
  {
   "cell_type": "code",
   "execution_count": 57,
   "id": "0d971f79",
   "metadata": {},
   "outputs": [
    {
     "data": {
      "text/plain": [
       "0.4200308273288197"
      ]
     },
     "execution_count": 57,
     "metadata": {},
     "output_type": "execute_result"
    }
   ],
   "source": [
    "z_score"
   ]
  },
  {
   "cell_type": "code",
   "execution_count": 58,
   "id": "470418d3",
   "metadata": {},
   "outputs": [
    {
     "data": {
      "text/plain": [
       "0.33723146684863126"
      ]
     },
     "execution_count": 58,
     "metadata": {},
     "output_type": "execute_result"
    }
   ],
   "source": [
    "p_value"
   ]
  },
  {
   "cell_type": "code",
   "execution_count": 59,
   "id": "d746253f",
   "metadata": {},
   "outputs": [
    {
     "name": "stdout",
     "output_type": "stream",
     "text": [
      "we are going to accpept the null hyphothesis\n"
     ]
    }
   ],
   "source": [
    "if (p_value<ALPHA):\n",
    "    print(\"reject the null hyphothesis\")\n",
    "else:\n",
    "    print(\"we are going to accpept the null hyphothesis\")\n",
    "    "
   ]
  },
  {
   "cell_type": "code",
   "execution_count": null,
   "id": "b1f6fa07",
   "metadata": {},
   "outputs": [],
   "source": []
  },
  {
   "cell_type": "code",
   "execution_count": null,
   "id": "aba1b703",
   "metadata": {},
   "outputs": [],
   "source": []
  }
 ],
 "metadata": {
  "kernelspec": {
   "display_name": "Python 3 (ipykernel)",
   "language": "python",
   "name": "python3"
  },
  "language_info": {
   "codemirror_mode": {
    "name": "ipython",
    "version": 3
   },
   "file_extension": ".py",
   "mimetype": "text/x-python",
   "name": "python",
   "nbconvert_exporter": "python",
   "pygments_lexer": "ipython3",
   "version": "3.9.13"
  }
 },
 "nbformat": 4,
 "nbformat_minor": 5
}
